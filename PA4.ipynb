{
 "cells": [
  {
   "cell_type": "code",
   "execution_count": 6,
   "metadata": {},
   "outputs": [],
   "source": [
    "import pandas as pd\n",
    "import numpy as np\n",
    "import tensorflow as tf\n",
    "import os\n",
    "import cv2\n",
    "from PIL import Image\n",
    "import time"
   ]
  },
  {
   "cell_type": "code",
   "execution_count": 7,
   "metadata": {},
   "outputs": [],
   "source": [
    "#Directory locations for the code\n",
    "face_cascade = \"Data\\\\xml\\\\haarcascade_frontalface_default.xml\"\n",
    "image_path = \"Data\\\\img_align_celeba\"\n",
    "\n",
    "#Cropped Output\n",
    "output_path = \"Data\\\\cropped_faces\"\n",
    "if not os.path.exists(output_path):\n",
    "        os.mkdir(output_path)"
   ]
  },
  {
   "cell_type": "code",
   "execution_count": 8,
   "metadata": {},
   "outputs": [],
   "source": [
    "#some image manipulation functions\n",
    "def resizer(path):\n",
    "    return np.array(Image.open(path).convert('L').resize((28,28), Image.ANTIALIAS)).ravel().tolist()\n",
    "\n",
    "def images_from_dirs(dirs):\n",
    "    train_img = 255 - np.array([resizer(i) for i in glob.glob(dirs)])\n",
    "    return train_img\n",
    "\n",
    "def crop_and_save_images(cascade, imgname, output_path):\n",
    "    img = cv2.imread(os.path.join(image_path, imgname))\n",
    "    for i, face in enumerate(cascade.detectMultiScale(img)):\n",
    "        #start = time.time()\n",
    "        x, y, w, h = face\n",
    "        sub_face = img[y:y + h, x:x + w]\n",
    "        img_path = os.path.join(output_path, imgname)\n",
    "        cv2.imwrite(img_path, sub_face)\n",
    "        #if i%1000 == 0:\n",
    "            #end = time.time() - start\n",
    "            #print(i,\"took\", end, \"seconds\")\n",
    "            #print(i, \"Cropped\")\n",
    "            #start = time.time()"
   ]
  },
  {
   "cell_type": "code",
   "execution_count": null,
   "metadata": {},
   "outputs": [],
   "source": [
    "#Eyeglasses label\n",
    "feature = pd.read_csv(\"Data/glasses.csv\")\n",
    "eye_glasses = feature[[\"Images\",\"Eyeglasses\"]]\n",
    "\n",
    "Y_label = list(feature.Eyeglasses)"
   ]
  },
  {
   "cell_type": "code",
   "execution_count": null,
   "metadata": {},
   "outputs": [],
   "source": [
    "#Cropping the images to contain only faces\n",
    "cascade = cv2.CascadeClassifier(face_cascade)\n",
    "for f in [f for f in os.listdir(image_path) if os.path.isfile(os.path.join(image_path, f))]:\n",
    "    crop_and_save_images(cascade, f, output_path)"
   ]
  },
  {
   "cell_type": "code",
   "execution_count": null,
   "metadata": {},
   "outputs": [],
   "source": []
  },
  {
   "cell_type": "code",
   "execution_count": null,
   "metadata": {},
   "outputs": [],
   "source": []
  },
  {
   "cell_type": "code",
   "execution_count": null,
   "metadata": {},
   "outputs": [],
   "source": []
  },
  {
   "cell_type": "code",
   "execution_count": null,
   "metadata": {},
   "outputs": [],
   "source": []
  },
  {
   "cell_type": "code",
   "execution_count": null,
   "metadata": {},
   "outputs": [],
   "source": []
  }
 ],
 "metadata": {
  "kernelspec": {
   "display_name": "Python 3",
   "language": "python",
   "name": "python3"
  },
  "language_info": {
   "codemirror_mode": {
    "name": "ipython",
    "version": 3
   },
   "file_extension": ".py",
   "mimetype": "text/x-python",
   "name": "python",
   "nbconvert_exporter": "python",
   "pygments_lexer": "ipython3",
   "version": "3.5.4"
  }
 },
 "nbformat": 4,
 "nbformat_minor": 2
}
